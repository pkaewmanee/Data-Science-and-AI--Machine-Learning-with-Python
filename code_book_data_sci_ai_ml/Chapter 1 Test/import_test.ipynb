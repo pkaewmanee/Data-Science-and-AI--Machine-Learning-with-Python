{
 "cells": [
  {
   "cell_type": "code",
   "execution_count": 1,
   "metadata": {},
   "outputs": [
    {
     "name": "stdout",
     "output_type": "stream",
     "text": [
      "IPython:    7.31.1 (need at least 1.0)\n",
      "JupyterLab:  3.4.4 (need at least 0.35.x)\n",
      "Numpy:       1.21.5 (need at least 1.7.1)\n",
      "xlrd:        2.0.1 (need at least 1.0.0)\n",
      "Pandas:      1.4.4 (need at least 0.24.0)\n",
      "Matplotlib:  3.5.2 (need at least 1.2.1)\n",
      "Seaborn:     0.11.2 (need at least 0.8 but prefer 0.9)\n",
      "Scikit-Learn: 1.0.2 (need at least 0.13.1)\n"
     ]
    }
   ],
   "source": [
    "#IPython \n",
    "import IPython\n",
    "print( \"IPython:    {} (need at least 1.0)\".format(IPython.__version__))\n",
    "\n",
    "import jupyterlab\n",
    "print(\"JupyterLab:  {} (need at least 0.35.x)\".format(jupyterlab.__version__))\n",
    "\n",
    "# Numpy \n",
    "import numpy as np\n",
    "print(\"Numpy:       {} (need at least 1.7.1)\".format(np.__version__))\n",
    "\n",
    "# xlrd \n",
    "import xlrd\n",
    "print(\"xlrd:        {} (need at least 1.0.0)\".format(xlrd.__version__))\n",
    "\n",
    "# Pandas for data tables\n",
    "import pandas as pd\n",
    "print(\"Pandas:      {} (need at least 0.24.0)\".format(pd.__version__))\n",
    "\n",
    "# \n",
    "import matplotlib\n",
    "print(\"Matplotlib:  {} (need at least 1.2.1)\".format(matplotlib.__version__))\n",
    "\n",
    "import seaborn\n",
    "print(\"Seaborn:     {} (need at least 0.8 but prefer 0.9)\".format(seaborn.__version__))\n",
    "\n",
    "# SciKit Learn implements several Machine Learning algorithms\n",
    "import sklearn\n",
    "print(\"Scikit-Learn: {} (need at least 0.13.1)\".format(sklearn.__version__))"
   ]
  },
  {
   "cell_type": "code",
   "execution_count": null,
   "metadata": {},
   "outputs": [],
   "source": []
  }
 ],
 "metadata": {
  "kernelspec": {
   "display_name": "Python 3 (ipykernel)",
   "language": "python",
   "name": "python3"
  },
  "language_info": {
   "codemirror_mode": {
    "name": "ipython",
    "version": 3
   },
   "file_extension": ".py",
   "mimetype": "text/x-python",
   "name": "python",
   "nbconvert_exporter": "python",
   "pygments_lexer": "ipython3",
   "version": "3.9.13"
  }
 },
 "nbformat": 4,
 "nbformat_minor": 4
}
