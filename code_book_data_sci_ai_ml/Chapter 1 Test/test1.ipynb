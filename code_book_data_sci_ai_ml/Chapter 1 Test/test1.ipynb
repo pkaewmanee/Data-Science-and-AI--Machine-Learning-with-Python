{
 "cells": [
  {
   "cell_type": "code",
   "execution_count": 1,
   "metadata": {},
   "outputs": [
    {
     "name": "stdout",
     "output_type": "stream",
     "text": [
      "48\n"
     ]
    }
   ],
   "source": [
    "a = 12\n",
    "b = a * 4\n",
    "print(b)"
   ]
  },
  {
   "cell_type": "code",
   "execution_count": 2,
   "metadata": {},
   "outputs": [
    {
     "name": "stdout",
     "output_type": "stream",
     "text": [
      "kobkiat 48\n"
     ]
    }
   ],
   "source": [
    "name = 'kobkiat'\n",
    "print(name , b)"
   ]
  },
  {
   "cell_type": "code",
   "execution_count": 3,
   "metadata": {},
   "outputs": [],
   "source": [
    "b = 512"
   ]
  },
  {
   "cell_type": "markdown",
   "metadata": {},
   "source": [
    "# พล็อตกราฟด้วย Matplotlib\n",
    "แสดงยอดขายรายเดือนของสินค้า"
   ]
  },
  {
   "cell_type": "code",
   "execution_count": 4,
   "metadata": {},
   "outputs": [
    {
     "data": {
      "text/plain": [
       "<BarContainer object of 5 artists>"
      ]
     },
     "execution_count": 4,
     "metadata": {},
     "output_type": "execute_result"
    },
    {
     "data": {
      "image/png": "[encoded data removed]",
      "text/plain": [
       "<Figure size 640x480 with 1 Axes>"
      ]
     },
     "metadata": {},
     "output_type": "display_data"
    }
   ],
   "source": [
    "# %matplotlib inline\n",
    "import matplotlib.pyplot as plt\n",
    "y = [3,2,4,3,4]\n",
    "x = ['Jan','Feb','Mar','Apr','May']\n",
    "plt.bar(x, y)"
   ]
  },
  {
   "cell_type": "code",
   "execution_count": 7,
   "metadata": {},
   "outputs": [
    {
     "name": "stdout",
     "output_type": "stream",
     "text": [
      "20\n",
      "5\n"
     ]
    }
   ],
   "source": [
    "a = 5\n",
    "b = a * 4\n",
    "print(b)\n",
    "\n",
    "print(a)"
   ]
  },
  {
   "cell_type": "code",
   "execution_count": 8,
   "metadata": {},
   "outputs": [
    {
     "data": {
      "text/plain": [
       "\u001b[0;31mSignature:\u001b[0m\n",
       "\u001b[0mplt\u001b[0m\u001b[0;34m.\u001b[0m\u001b[0mbar\u001b[0m\u001b[0;34m(\u001b[0m\u001b[0;34m\u001b[0m\n",
       "\u001b[0;34m\u001b[0m    \u001b[0mx\u001b[0m\u001b[0;34m,\u001b[0m\u001b[0;34m\u001b[0m\n",
       "\u001b[0;34m\u001b[0m    \u001b[0mheight\u001b[0m\u001b[0;34m,\u001b[0m\u001b[0;34m\u001b[0m\n",
       "\u001b[0;34m\u001b[0m    \u001b[0mwidth\u001b[0m\u001b[0;34m=\u001b[0m\u001b[0;36m0.8\u001b[0m\u001b[0;34m,\u001b[0m\u001b[0;34m\u001b[0m\n",
       "\u001b[0;34m\u001b[0m    \u001b[0mbottom\u001b[0m\u001b[0;34m=\u001b[0m\u001b[0;32mNone\u001b[0m\u001b[0;34m,\u001b[0m\u001b[0;34m\u001b[0m\n",
       "\u001b[0;34m\u001b[0m    \u001b[0;34m*\u001b[0m\u001b[0;34m,\u001b[0m\u001b[0;34m\u001b[0m\n",
       "\u001b[0;34m\u001b[0m    \u001b[0malign\u001b[0m\u001b[0;34m=\u001b[0m\u001b[0;34m'center'\u001b[0m\u001b[0;34m,\u001b[0m\u001b[0;34m\u001b[0m\n",
       "\u001b[0;34m\u001b[0m    \u001b[0mdata\u001b[0m\u001b[0;34m=\u001b[0m\u001b[0;32mNone\u001b[0m\u001b[0;34m,\u001b[0m\u001b[0;34m\u001b[0m\n",
       "\u001b[0;34m\u001b[0m    \u001b[0;34m**\u001b[0m\u001b[0mkwargs\u001b[0m\u001b[0;34m,\u001b[0m\u001b[0;34m\u001b[0m\n",
       "\u001b[0;34m\u001b[0m\u001b[0;34m)\u001b[0m\u001b[0;34m\u001b[0m\u001b[0;34m\u001b[0m\u001b[0m\n",
       "\u001b[0;31mDocstring:\u001b[0m\n",
       "Make a bar plot.\n",
       "\n",
       "The bars are positioned at *x* with the given *align*\\ment. Their\n",
       "dimensions are given by *height* and *width*. The vertical baseline\n",
       "is *bottom* (default 0).\n",
       "\n",
       "Many parameters can take either a single value applying to all bars\n",
       "or a sequence of values, one for each bar.\n",
       "\n",
       "Parameters\n",
       "----------\n",
       "x : float or array-like\n",
       "    The x coordinates of the bars. See also *align* for the\n",
       "    alignment of the bars to the coordinates.\n",
       "\n",
       "height : float or array-like\n",
       "    The height(s) of the bars.\n",
       "\n",
       "width : float or array-like, default: 0.8\n",
       "    The width(s) of the bars.\n",
       "\n",
       "bottom : float or array-like, default: 0\n",
       "    The y coordinate(s) of the bars bases.\n",
       "\n",
       "align : {'center', 'edge'}, default: 'center'\n",
       "    Alignment of the bars to the *x* coordinates:\n",
       "\n",
       "    - 'center': Center the base on the *x* positions.\n",
       "    - 'edge': Align the left edges of the bars with the *x* positions.\n",
       "\n",
       "    To align the bars on the right edge pass a negative *width* and\n",
       "    ``align='edge'``.\n",
       "\n",
       "Returns\n",
       "-------\n",
       "`.BarContainer`\n",
       "    Container with all the bars and optionally errorbars.\n",
       "\n",
       "Other Parameters\n",
       "----------------\n",
       "color : color or list of color, optional\n",
       "    The colors of the bar faces.\n",
       "\n",
       "edgecolor : color or list of color, optional\n",
       "    The colors of the bar edges.\n",
       "\n",
       "linewidth : float or array-like, optional\n",
       "    Width of the bar edge(s). If 0, don't draw edges.\n",
       "\n",
       "tick_label : str or list of str, optional\n",
       "    The tick labels of the bars.\n",
       "    Default: None (Use default numeric labels.)\n",
       "\n",
       "xerr, yerr : float or array-like of shape(N,) or shape(2, N), optional\n",
       "    If not *None*, add horizontal / vertical errorbars to the bar tips.\n",
       "    The values are +/- sizes relative to the data:\n",
       "\n",
       "    - scalar: symmetric +/- values for all bars\n",
       "    - shape(N,): symmetric +/- values for each bar\n",
       "    - shape(2, N): Separate - and + values for each bar. First row\n",
       "      contains the lower errors, the second row contains the upper\n",
       "      errors.\n",
       "    - *None*: No errorbar. (Default)\n",
       "\n",
       "    See :doc:`/gallery/statistics/errorbar_features`\n",
       "    for an example on the usage of ``xerr`` and ``yerr``.\n",
       "\n",
       "ecolor : color or list of color, default: 'black'\n",
       "    The line color of the errorbars.\n",
       "\n",
       "capsize : float, default: :rc:`errorbar.capsize`\n",
       "   The length of the error bar caps in points.\n",
       "\n",
       "error_kw : dict, optional\n",
       "    Dictionary of kwargs to be passed to the `~.Axes.errorbar`\n",
       "    method. Values of *ecolor* or *capsize* defined here take\n",
       "    precedence over the independent kwargs.\n",
       "\n",
       "log : bool, default: False\n",
       "    If *True*, set the y-axis to be log scale.\n",
       "\n",
       "data : indexable object, optional\n",
       "    If given, all parameters also accept a string ``s``, which is\n",
       "    interpreted as ``data[s]`` (unless this raises an exception).\n",
       "\n",
       "**kwargs : `.Rectangle` properties\n",
       "\n",
       "Properties:\n",
       "    agg_filter: a filter function, which takes a (m, n, 3) float array and a dpi value, and returns a (m, n, 3) array\n",
       "    alpha: scalar or None\n",
       "    angle: unknown\n",
       "    animated: bool\n",
       "    antialiased or aa: bool or None\n",
       "    bounds: (left, bottom, width, height)\n",
       "    capstyle: `.CapStyle` or {'butt', 'projecting', 'round'}\n",
       "    clip_box: `.Bbox`\n",
       "    clip_on: bool\n",
       "    clip_path: Patch or (Path, Transform) or None\n",
       "    color: color\n",
       "    edgecolor or ec: color or None\n",
       "    facecolor or fc: color or None\n",
       "    figure: `.Figure`\n",
       "    fill: bool\n",
       "    gid: str\n",
       "    hatch: {'/', '\\\\', '|', '-', '+', 'x', 'o', 'O', '.', '*'}\n",
       "    height: unknown\n",
       "    in_layout: bool\n",
       "    joinstyle: `.JoinStyle` or {'miter', 'round', 'bevel'}\n",
       "    label: object\n",
       "    linestyle or ls: {'-', '--', '-.', ':', '', (offset, on-off-seq), ...}\n",
       "    linewidth or lw: float or None\n",
       "    path_effects: `.AbstractPathEffect`\n",
       "    picker: None or bool or float or callable\n",
       "    rasterized: bool\n",
       "    sketch_params: (scale: float, length: float, randomness: float)\n",
       "    snap: bool or None\n",
       "    transform: `.Transform`\n",
       "    url: str\n",
       "    visible: bool\n",
       "    width: unknown\n",
       "    x: unknown\n",
       "    xy: (float, float)\n",
       "    y: unknown\n",
       "    zorder: float\n",
       "\n",
       "See Also\n",
       "--------\n",
       "barh : Plot a horizontal bar plot.\n",
       "\n",
       "Notes\n",
       "-----\n",
       "Stacked bars can be achieved by passing individual *bottom* values per\n",
       "bar. See :doc:`/gallery/lines_bars_and_markers/bar_stacked`.\n",
       "\u001b[0;31mFile:\u001b[0m      ~/opt/anaconda3/lib/python3.9/site-packages/matplotlib/pyplot.py\n",
       "\u001b[0;31mType:\u001b[0m      function\n"
      ]
     },
     "metadata": {},
     "output_type": "display_data"
    }
   ],
   "source": [
    "plt.bar()"
   ]
  },
  {
   "cell_type": "code",
   "execution_count": null,
   "metadata": {},
   "outputs": [],
   "source": []
  },
  {
   "cell_type": "code",
   "execution_count": null,
   "metadata": {},
   "outputs": [],
   "source": []
  },
  {
   "cell_type": "code",
   "execution_count": null,
   "metadata": {},
   "outputs": [],
   "source": []
  }
 ],
 "metadata": {
  "kernelspec": {
   "display_name": "Python 3 (ipykernel)",
   "language": "python",
   "name": "python3"
  },
  "language_info": {
   "codemirror_mode": {
    "name": "ipython",
    "version": 3
   },
   "file_extension": ".py",
   "mimetype": "text/x-python",
   "name": "python",
   "nbconvert_exporter": "python",
   "pygments_lexer": "ipython3",
   "version": "3.9.13"
  }
 },
 "nbformat": 4,
 "nbformat_minor": 4
}
