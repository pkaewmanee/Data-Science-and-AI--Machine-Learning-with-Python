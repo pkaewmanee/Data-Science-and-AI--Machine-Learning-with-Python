{
 "cells": [
  {
   "cell_type": "code",
   "execution_count": 1,
   "metadata": {},
   "outputs": [
    {
     "name": "stdout",
     "output_type": "stream",
     "text": [
      "0      15\n",
      "1    12.5\n",
      "2     Ksb\n",
      "3      22\n",
      "4     Jim\n",
      "dtype: object\n"
     ]
    }
   ],
   "source": [
    "# ws1\n",
    "import pandas as pd\n",
    "\n",
    "datas = [15,12.5,'Ksb',22,\"Jim\"]\n",
    "ps = pd.Series(datas)\n",
    "ps\n",
    "print(ps)\n",
    "# ps[0]"
   ]
  },
  {
   "cell_type": "code",
   "execution_count": 2,
   "metadata": {},
   "outputs": [
    {
     "data": {
      "text/plain": [
       "0        15\n",
       "1      12.5\n",
       "2    Ksbกอบ\n",
       "3        22\n",
       "4       Jim\n",
       "dtype: object"
      ]
     },
     "execution_count": 2,
     "metadata": {},
     "output_type": "execute_result"
    }
   ],
   "source": [
    "ps = pd.Series([15,12.5,'Ksbกอบ',22,\"Jim\"])\n",
    "ps"
   ]
  },
  {
   "cell_type": "code",
   "execution_count": 3,
   "metadata": {},
   "outputs": [
    {
     "data": {
      "text/plain": [
       "0      15\n",
       "1    12.5\n",
       "2     Ksb\n",
       "3      22\n",
       "4     Jim\n",
       "dtype: object"
      ]
     },
     "execution_count": 3,
     "metadata": {},
     "output_type": "execute_result"
    }
   ],
   "source": [
    "datas = (15,12.5,'Ksb',22,\"Jim\")\n",
    "ps = pd.Series(datas)\n",
    "ps"
   ]
  },
  {
   "cell_type": "code",
   "execution_count": 4,
   "metadata": {},
   "outputs": [
    {
     "data": {
      "text/plain": [
       "0      15\n",
       "1    12.5\n",
       "2     Ksb\n",
       "3      22\n",
       "4     Jim\n",
       "dtype: object"
      ]
     },
     "execution_count": 4,
     "metadata": {},
     "output_type": "execute_result"
    }
   ],
   "source": [
    "# ws2\n",
    "import pandas as pd\n",
    "import numpy as np\n",
    "\n",
    "datas = [15,12.5,'Ksb',22,\"Jim\"]\n",
    "ndata = np.array(datas)\n",
    "ps = pd.Series(ndata)\n",
    "ps\n",
    "\n",
    "\n",
    "# ndata = np.array([15,12.5,'Ksb',22,\"Jim\"])\n",
    "# ps = pd.Series(datas)\n",
    "ps"
   ]
  },
  {
   "cell_type": "code",
   "execution_count": 5,
   "metadata": {},
   "outputs": [
    {
     "data": {
      "text/plain": [
       "ksb      15.0\n",
       "ณิแนน    12.5\n",
       "Tim      18.0\n",
       "Jan      22.0\n",
       "แมว      17.0\n",
       "dtype: float64"
      ]
     },
     "execution_count": 5,
     "metadata": {},
     "output_type": "execute_result"
    }
   ],
   "source": [
    "# ws3\n",
    "datas = [15,12.5,18,22,17]\n",
    "idx = ['ksb','ณิแนน','Tim','Jan','แมว']\n",
    "ps = pd.Series(datas, index=idx)\n",
    "ps"
   ]
  },
  {
   "cell_type": "code",
   "execution_count": 6,
   "metadata": {},
   "outputs": [
    {
     "data": {
      "text/plain": [
       "ksb      15.0\n",
       "ณิแนน    12.5\n",
       "Tim      18.0\n",
       "Jan      22.0\n",
       "แมว      17.0\n",
       "dtype: float64"
      ]
     },
     "execution_count": 6,
     "metadata": {},
     "output_type": "execute_result"
    }
   ],
   "source": [
    "# ws3.1\n",
    "datas = [15,12.5,18,22,17]\n",
    "idx = ['ksb','ณิแนน','Tim','Jan','แมว']\n",
    "ps = pd.Series(np.array(datas), index=idx)\n",
    "ps"
   ]
  },
  {
   "cell_type": "code",
   "execution_count": 7,
   "metadata": {},
   "outputs": [
    {
     "data": {
      "text/plain": [
       "ksb      15.0\n",
       "ณิแนน    12.5\n",
       "Tim      18.0\n",
       "Jan      22.0\n",
       "dtype: float64"
      ]
     },
     "execution_count": 7,
     "metadata": {},
     "output_type": "execute_result"
    }
   ],
   "source": [
    "# ws4 \n",
    "datas = {'ksb':15, 'ณิแนน':12.5,'Tim':18, 'Jan':22}\n",
    "ps = pd.Series(datas)\n",
    "ps"
   ]
  },
  {
   "cell_type": "code",
   "execution_count": 8,
   "metadata": {},
   "outputs": [
    {
     "data": {
      "text/plain": [
       "12.5"
      ]
     },
     "execution_count": 8,
     "metadata": {},
     "output_type": "execute_result"
    }
   ],
   "source": [
    "# ws5 \n",
    "ps['ณิแนน']"
   ]
  },
  {
   "cell_type": "code",
   "execution_count": 9,
   "metadata": {},
   "outputs": [
    {
     "data": {
      "text/plain": [
       "18.0"
      ]
     },
     "execution_count": 9,
     "metadata": {},
     "output_type": "execute_result"
    }
   ],
   "source": [
    "ps['Tim']"
   ]
  },
  {
   "cell_type": "code",
   "execution_count": 10,
   "metadata": {},
   "outputs": [
    {
     "data": {
      "text/plain": [
       "15.0"
      ]
     },
     "execution_count": 10,
     "metadata": {},
     "output_type": "execute_result"
    }
   ],
   "source": [
    "ps[0]"
   ]
  },
  {
   "cell_type": "code",
   "execution_count": 11,
   "metadata": {},
   "outputs": [
    {
     "data": {
      "text/plain": [
       "12.5"
      ]
     },
     "execution_count": 11,
     "metadata": {},
     "output_type": "execute_result"
    }
   ],
   "source": [
    "ps[1]"
   ]
  },
  {
   "cell_type": "code",
   "execution_count": 12,
   "metadata": {},
   "outputs": [
    {
     "data": {
      "text/plain": [
       "22.0"
      ]
     },
     "execution_count": 12,
     "metadata": {},
     "output_type": "execute_result"
    }
   ],
   "source": [
    "ps[-1]"
   ]
  },
  {
   "cell_type": "code",
   "execution_count": 13,
   "metadata": {},
   "outputs": [
    {
     "data": {
      "text/plain": [
       "Tim    18.0\n",
       "Jan    22.0\n",
       "dtype: float64"
      ]
     },
     "execution_count": 13,
     "metadata": {},
     "output_type": "execute_result"
    }
   ],
   "source": [
    "# ws6 \n",
    "ps[:]\n",
    "ps[2:]\n",
    "ps[:2]\n",
    "ps[1:3]\n",
    "# ps[2:]\n",
    "ps[2:len(ps)]\n",
    "# ps[2:4]\n",
    "# type(ps[1:2])"
   ]
  },
  {
   "cell_type": "code",
   "execution_count": null,
   "metadata": {},
   "outputs": [],
   "source": []
  }
 ],
 "metadata": {
  "kernelspec": {
   "display_name": "Python 3 (ipykernel)",
   "language": "python",
   "name": "python3"
  },
  "language_info": {
   "codemirror_mode": {
    "name": "ipython",
    "version": 3
   },
   "file_extension": ".py",
   "mimetype": "text/x-python",
   "name": "python",
   "nbconvert_exporter": "python",
   "pygments_lexer": "ipython3",
   "version": "3.9.13"
  }
 },
 "nbformat": 4,
 "nbformat_minor": 4
}
